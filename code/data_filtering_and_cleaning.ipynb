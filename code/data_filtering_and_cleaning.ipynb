{
 "cells": [
  {
   "cell_type": "code",
   "execution_count": 46,
   "metadata": {},
   "outputs": [],
   "source": [
    "import pandas as pd\n",
    "import demoji\n",
    "import re"
   ]
  },
  {
   "cell_type": "code",
   "execution_count": null,
   "metadata": {},
   "outputs": [],
   "source": [
    "df_comments = pd.read_pickle(\"../data/comments/all_comments.pkl\")"
   ]
  },
  {
   "cell_type": "code",
   "execution_count": null,
   "metadata": {},
   "outputs": [],
   "source": [
    "# converting strings to datetime\n",
    "df_comments['video_publish_date'] = pd.to_datetime(df_comments['video_publish_date'], format='%Y-%m-%dT%H:%M:%SZ')\n",
    "df_comments['comment_publish_date'] = pd.to_datetime(df_comments['comment_publish_date'], format='%Y-%m-%dT%H:%M:%SZ')\n",
    "\n",
    "# Extracting year, and month from the datetime column\n",
    "# video\n",
    "df_comments['video_year'] = df_comments['video_publish_date'].dt.year\n",
    "df_comments['video_month'] = df_comments['video_publish_date'].dt.month\n",
    "\n",
    "# comment\n",
    "df_comments['comment_year'] = df_comments['comment_publish_date'].dt.year\n",
    "df_comments['comment_month'] = df_comments['comment_publish_date'].dt.month\n",
    "\n",
    "# Calculate the running month\n",
    "df_comments['video_running_month'] = df_comments['video_month'] + 12 * (df_comments['video_year'] - df_comments['video_year'].min())\n",
    "df_comments['comment_running_month'] = df_comments['comment_month'] + 12 * (df_comments['comment_year'] - df_comments['comment_year'].min())\n",
    "\n",
    "# define the fixed minimum date\n",
    "min_date = pd.to_datetime('2017-01-01')\n",
    "# Calculate the running days\n",
    "df_comments['comment_running_days'] = (df_comments['comment_publish_date'] - min_date).dt.days\n",
    "\n",
    "# filter comments after 90 days of videos' release\n",
    "# Calculate the difference in days\n",
    "df_comments['days_publish_date_difference'] = (df_comments['comment_publish_date'] - df_comments['video_publish_date']).dt.days\n",
    "\n",
    "# Filter to include only comments within 90 days of the video publish date\n",
    "df_timely_comments = df_comments[df_comments['days_publish_date_difference'] <= 90]\n",
    "\n",
    "df_timely_comments = df_timely_comments.drop(columns='days_publish_date_difference')\n",
    "\n",
    "df_timely_comments.to_pickle(\"../data/comments/timely_comments.pkl\")"
   ]
  },
  {
   "cell_type": "code",
   "execution_count": 47,
   "metadata": {},
   "outputs": [],
   "source": [
    "# Function to count words in a string\n",
    "def word_count(text):\n",
    "    return len(text.split())"
   ]
  },
  {
   "cell_type": "code",
   "execution_count": null,
   "metadata": {},
   "outputs": [],
   "source": [
    "# Filter out comments with less than 3 words\n",
    "df_timely_comments = df_timely_comments[df_timely_comments['comment_text'].apply(word_count) >= 3]"
   ]
  },
  {
   "cell_type": "code",
   "execution_count": 45,
   "metadata": {},
   "outputs": [
    {
     "name": "stdout",
     "output_type": "stream",
     "text": [
      "<class 'pandas.core.frame.DataFrame'>\n",
      "Index: 19363 entries, 84 to 77797\n",
      "Data columns (total 14 columns):\n",
      " #   Column                 Non-Null Count  Dtype         \n",
      "---  ------                 --------------  -----         \n",
      " 0   video_id               19363 non-null  object        \n",
      " 1   video_title            19363 non-null  object        \n",
      " 2   video_publish_date     19363 non-null  datetime64[ns]\n",
      " 3   video_category_id      19363 non-null  object        \n",
      " 4   comment_text           19363 non-null  object        \n",
      " 5   comment_id             19363 non-null  object        \n",
      " 6   comment_publish_date   19363 non-null  datetime64[ns]\n",
      " 7   video_year             19363 non-null  int32         \n",
      " 8   video_month            19363 non-null  int32         \n",
      " 9   comment_year           19363 non-null  int32         \n",
      " 10  comment_month          19363 non-null  int32         \n",
      " 11  video_running_month    19363 non-null  int32         \n",
      " 12  comment_running_month  19363 non-null  int32         \n",
      " 13  comment_running_days   19363 non-null  int64         \n",
      "dtypes: datetime64[ns](2), int32(6), int64(1), object(5)\n",
      "memory usage: 1.8+ MB\n"
     ]
    }
   ],
   "source": [
    "df_timely_comments.info()"
   ]
  },
  {
   "cell_type": "markdown",
   "metadata": {},
   "source": [
    "## Text Cleaning"
   ]
  },
  {
   "cell_type": "code",
   "execution_count": null,
   "metadata": {},
   "outputs": [],
   "source": [
    "# text cleaning functions\n",
    "\n",
    "# remove all emojis\n",
    "def remove_emojis(text):\n",
    "    return demoji.replace(text, \"\")\n",
    "\n",
    "# Function to normalize text\n",
    "def normalize_text(text):\n",
    "    text = re.sub(r\"@[A-Za-z0-9_]+\", \" \", text)  # Remove @mentions\n",
    "    text = re.sub(r\"https?://[A-Za-z0-9./]+\", \" \", text)  # Remove URLs\n",
    "    text = re.sub(r\"https?\", \" \", text)  # Remove http/https\n",
    "    text = re.sub(r'(.)\\1+', r'\\1', text)  # Remove repeated characters\n",
    "    text = re.sub(r'[^\\w\\s]', '', text)  # Remove punctuations\n",
    "    return text"
   ]
  },
  {
   "cell_type": "code",
   "execution_count": 49,
   "metadata": {},
   "outputs": [],
   "source": [
    "# Apply text cleaning functions\n",
    "df_timely_comments['comment_text'] = df_timely_comments['comment_text'].apply(remove_emojis).apply(normalize_text)\n"
   ]
  },
  {
   "cell_type": "code",
   "execution_count": 51,
   "metadata": {},
   "outputs": [
    {
     "data": {
      "text/plain": [
       "84      We laugh at Sofia now but is just a mater of t...\n",
       "87       quotstay in your lane girlquot strikes again LOL\n",
       "103     quotthis is a god begining of my plan to domin...\n",
       "114     quotDo you know where you are Sophiaquotbrbrqu...\n",
       "115     this was totaly colbut Sophia was a litle bit ...\n",
       "122     At a href vBg_tJvCA8zwampt298458a why do peopl...\n",
       "126     this wil be a highlight rel in the future wher...\n",
       "127     quotDominating the human racequotbrJust kiding...\n",
       "130     when she said quotThis is a god begining of my...\n",
       "135                     Sophia is the start of terminator\n",
       "146     a href vBg_tJvCA8zwampt12152a quotIt39s strong...\n",
       "158     Funy how humans can be so afraid of what they ...\n",
       "171     Sophia creped me out She sems more real than s...\n",
       "209     a href vBg_tJvCA8zwampt25345a fuck this shit I...\n",
       "229     a href vBg_tJvCA8zwampt403643a ME TRYING TO GE...\n",
       "261      Thank you Jimy friend me on Facebok HAHAHAHAHAHA\n",
       "288     Who else was thinking about Ex Machina when th...\n",
       "293     I loved this It39s kinda fun when there39s lik...\n",
       "316     Y39al think Sophia39s kiding about the whole h...\n",
       "320     Sophia quotThis is a god begining of my plan t...\n",
       "329     Sophia Rock paper scisors shotbrSophia picks p...\n",
       "361                           skynet39s bbenb active guys\n",
       "441                  Where in the world is Sophia39s hair\n",
       "444     Y39al didn39t believe Trump when he said he wo...\n",
       "445                                    Give her a wig bro\n",
       "472     Asians want human like robots Europeans want b...\n",
       "509           Wait which one is the robot Falon or Sophia\n",
       "532      They can make the golden snitch from hary poter \n",
       "537     i didnt laugh at the quotthis is a god beginin...\n",
       "1150    Most educational videos give viewers the impre...\n",
       "1185    PART 1 THERE WIL BE MORE YAS 3BLUE1BROWN IS DO...\n",
       "1193    I just watched Welch labs machine learning pla...\n",
       "1197      A quick sugestion Redgren color deficiency i...\n",
       "1208    This is the best intro to neural networks I ha...\n",
       "1217    Thank you 3b1b This video certainly gave me a ...\n",
       "1229    Behind this material is an extreme shot of gif...\n",
       "1236    Cant wait to se the videos you release for gen...\n",
       "1243    This chanel is so damn god Other chanels give ...\n",
       "1247    Documentsbr Videosbr  3Blue1Brownbr  Bad Video...\n",
       "1256    Awesome video As someone who39s just starting ...\n",
       "1260    Neural networks is a topic I39ve wanted an int...\n",
       "1267    Thankyou so much for every single timebrThis s...\n",
       "1271    First time in my life that I suscribe to a cha...\n",
       "1286    This is definitely one of the best explanation...\n",
       "1289    The best video on Neural network for beginers ...\n",
       "1290    This video was absolutely amazing I entered wi...\n",
       "1293    You are without a doubt my favourite YouTuber ...\n",
       "1305    The first minute of this video is exactly my p...\n",
       "1325    This is beautiful thanks for the great content...\n",
       "1332             Most fascinating chanel on YT hands down\n",
       "Name: comment_text, dtype: object"
      ]
     },
     "execution_count": 51,
     "metadata": {},
     "output_type": "execute_result"
    }
   ],
   "source": [
    "df_timely_comments['comment_text'].head(50)"
   ]
  }
 ],
 "metadata": {
  "kernelspec": {
   "display_name": ".soco_virtual_environment",
   "language": "python",
   "name": "python3"
  },
  "language_info": {
   "codemirror_mode": {
    "name": "ipython",
    "version": 3
   },
   "file_extension": ".py",
   "mimetype": "text/x-python",
   "name": "python",
   "nbconvert_exporter": "python",
   "pygments_lexer": "ipython3",
   "version": "3.11.6"
  }
 },
 "nbformat": 4,
 "nbformat_minor": 2
}
